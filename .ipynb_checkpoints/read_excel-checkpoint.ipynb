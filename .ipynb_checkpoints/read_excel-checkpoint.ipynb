{
 "cells": [
  {
   "cell_type": "code",
   "execution_count": 2,
   "metadata": {},
   "outputs": [],
   "source": [
    "import xlwt\n",
    " \n",
    "#----------------------------------------------------------------------\n",
    "def main():\n",
    "    \"\"\"\"\"\"\n",
    "    book = xlwt.Workbook()\n",
    "    sheet1 = book.add_sheet(\"PySheet1\")\n",
    " \n",
    "    cols = [\"A\", \"B\", \"C\", \"D\", \"E\"]\n",
    "    txt = \"Row %s, Col %s\"\n",
    " \n",
    "    for num in range(5):\n",
    "        row = sheet1.row(num)\n",
    "        for index, col in enumerate(cols):\n",
    "            value = txt % (num+1, col)\n",
    "            row.write(index, value)\n",
    " \n",
    "    book.save(\"test.xls\")\n",
    " \n",
    "main()"
   ]
  },
  {
   "cell_type": "code",
   "execution_count": null,
   "metadata": {},
   "outputs": [],
   "source": [
    "import xlrd\n",
    " \n",
    "#----------------------------------------------------------------------\n",
    "def open_file(path):\n",
    "    \"\"\"\n",
    "    Open and read an Excel file\n",
    "    \"\"\"\n",
    "    book = xlrd.open_workbook(path)\n",
    " \n",
    "    # print number of sheets\n",
    "    print(book.nsheets)\n",
    " \n",
    "    # print sheet names\n",
    "    print(book.sheet_names())\n",
    " \n",
    "    # get the first worksheet\n",
    "    first_sheet = book.sheet_by_index(0)\n",
    " \n",
    "    # read a row\n",
    "    print(first_sheet.row_values(0))\n",
    " \n",
    "    # read a cell\n",
    "    cell = first_sheet.cell(0,0)\n",
    "    print(cell)\n",
    "    print(cell.value)\n",
    " \n",
    "    # read a row slice\n",
    "    print(first_sheet.row_slice(rowx=0,start_colx=0,end_colx=2)\n",
    " \n",
    "\n",
    "path = \"test.xls\"\n",
    "open_file(path)"
   ]
  },
  {
   "cell_type": "code",
   "execution_count": null,
   "metadata": {},
   "outputs": [],
   "source": []
  }
 ],
 "metadata": {
  "kernelspec": {
   "display_name": "Python 3",
   "language": "python",
   "name": "python3"
  },
  "language_info": {
   "codemirror_mode": {
    "name": "ipython",
    "version": 3
   },
   "file_extension": ".py",
   "mimetype": "text/x-python",
   "name": "python",
   "nbconvert_exporter": "python",
   "pygments_lexer": "ipython3",
   "version": "3.6.4"
  }
 },
 "nbformat": 4,
 "nbformat_minor": 2
}
